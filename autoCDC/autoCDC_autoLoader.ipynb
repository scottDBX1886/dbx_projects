{
 "cells": [
  {
   "cell_type": "code",
   "execution_count": 0,
   "metadata": {
    "application/vnd.databricks.v1+cell": {
     "cellMetadata": {
      "byteLimit": 2048000,
      "rowLimit": 10000
     },
     "inputWidgets": {},
     "nuid": "e475333b-672d-43d6-a8fe-6036e4893665",
     "showTitle": false,
     "tableResultSettingsMap": {},
     "title": ""
    }
   },
   "outputs": [],
   "source": [
    "from dlt import *\n",
    "from pyspark.sql.functions import *\n",
    "\n",
    "# Create the target bronze table\n",
    "dlt.create_streaming_table(\"demo.dbdemos_dlt_cdc.customers_cdc_bronze\", comment=\"New customer data incrementally ingested from cloud object storage landing zone\")\n",
    "\n",
    "# Create an Append Flow to ingest the raw data into the bronze table\n",
    "@append_flow(\n",
    "  target = \"customers_cdc_bronze\",\n",
    "  name = \"customers_bronze_ingest_flow\"\n",
    ")\n",
    "def customers_bronze_ingest_flow():\n",
    "  return (\n",
    "      spark.readStream\n",
    "          .format(\"cloudFiles\")\n",
    "          .option(\"cloudFiles.format\", \"json\")\n",
    "          .option(\"cloudFiles.inferColumnTypes\", \"true\")\n",
    "          .load(\"/Volumes/main/dbdemos_dlt_cdc/raw_data/customers\")\n",
    "  )"
   ]
  }
 ],
 "metadata": {
  "application/vnd.databricks.v1+notebook": {
   "computePreferences": null,
   "dashboards": [],
   "environmentMetadata": {
    "base_environment": "",
    "environment_version": "2"
   },
   "inputWidgetPreferences": null,
   "language": "python",
   "notebookMetadata": {
    "pythonIndentUnit": 4
   },
   "notebookName": "autoCDC_autoLoader",
   "widgets": {}
  },
  "language_info": {
   "name": "python"
  }
 },
 "nbformat": 4,
 "nbformat_minor": 0
}
