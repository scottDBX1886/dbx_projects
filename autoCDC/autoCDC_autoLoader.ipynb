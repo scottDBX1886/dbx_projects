{
 "cells": [
  {
   "cell_type": "code",
   "execution_count": 0,
   "metadata": {
    "application/vnd.databricks.v1+cell": {
     "cellMetadata": {
      "byteLimit": 2048000,
      "rowLimit": 10000
     },
     "inputWidgets": {},
     "nuid": "e475333b-672d-43d6-a8fe-6036e4893665",
     "showTitle": false,
     "tableResultSettingsMap": {},
     "title": ""
    }
   },
   "outputs": [],
   "source": [
    "from dlt import *\n",
    "from pyspark.sql.functions import *\n",
    "\n",
    "# Create the target bronze table with the required properties\n",
    "dlt.create_streaming_table(\n",
    "    name=\"demo.dbdemos_dlt_cdc.weekly_hospital_respiratory_data_bronze\",\n",
    "    comment=\"New customer data incrementally ingested from cloud object storage landing zone\",\n",
    "    table_properties={\n",
    "        'delta.minReaderVersion': '2',\n",
    "        'delta.minWriterVersion': '5',\n",
    "        'delta.columnMapping.mode': 'name'\n",
    "    }\n",
    ")\n",
    "\n",
    "# Create an Append Flow to ingest the raw data into the bronze table\n",
    "@append_flow(\n",
    "    target=\"weekly_hospital_respiratory_data_bronze\",\n",
    "    name=\"weekly_hospital_bronze_ingest_flow\"\n",
    ")\n",
    "def weekly_hospital_bronze_ingest_flow():\n",
    "    return (\n",
    "        spark.readStream\n",
    "            .format(\"cloudFiles\")\n",
    "            .option(\"cloudFiles.format\", \"csv\")\n",
    "            .option(\"cloudFiles.inferColumnTypes\", \"true\")\n",
    "            .load(\"/Volumes/demo/dbdemos_dlt_cdc/raw_data/Weekly_Hospital_Respiratory_Data/\")\n",
    "    )"
   ]
  }
 ],
 "metadata": {
  "application/vnd.databricks.v1+notebook": {
   "computePreferences": null,
   "dashboards": [],
   "environmentMetadata": {
    "base_environment": "",
    "environment_version": "2"
   },
   "inputWidgetPreferences": null,
   "language": "python",
   "notebookMetadata": {
    "pythonIndentUnit": 4
   },
   "notebookName": "autoCDC_autoLoader",
   "widgets": {}
  },
  "language_info": {
   "name": "python"
  }
 },
 "nbformat": 4,
 "nbformat_minor": 0
}
