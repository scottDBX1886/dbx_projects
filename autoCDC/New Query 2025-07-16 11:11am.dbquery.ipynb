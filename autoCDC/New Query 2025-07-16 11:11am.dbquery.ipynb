{
 "cells": [
  {
   "cell_type": "code",
   "execution_count": 0,
   "metadata": {
    "application/vnd.databricks.v1+cell": {
     "cellMetadata": {
      "byteLimit": 10485760,
      "rowLimit": 1000
     },
     "inputWidgets": {},
     "nuid": "3720c4a2-8d77-45d6-abcb-b6000e390fea",
     "showTitle": false,
     "tableResultSettingsMap": {},
     "title": ""
    }
   },
   "outputs": [],
   "source": [
    "select count(*) from dbdemos_dlt_cdc.weekly_hospital_respiratory_data_bronze --order by `Week Ending Date`,`Geographic aggregation`;\n",
    ";\n",
    "\n",
    "select * from demo.dbdemos_dlt_cdc.hospital_respiratory_data_scd;"
   ]
  }
 ],
 "metadata": {
  "application/vnd.databricks.v1+notebook": {
   "computePreferences": null,
   "dashboards": [],
   "environmentMetadata": null,
   "inputWidgetPreferences": null,
   "language": "sql",
   "notebookMetadata": {
    "sqlQueryOptions": {
     "applyAutoLimit": true,
     "catalog": "demo",
     "schema": "dbdemos_dlt_cdc"
    }
   },
   "notebookName": "New Query 2025-07-16 11:11am.dbquery.ipynb",
   "widgets": {}
  },
  "language_info": {
   "name": "sql"
  }
 },
 "nbformat": 4,
 "nbformat_minor": 0
}
