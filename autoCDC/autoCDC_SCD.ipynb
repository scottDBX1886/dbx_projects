{
 "cells": [
  {
   "cell_type": "code",
   "execution_count": 0,
   "metadata": {
    "application/vnd.databricks.v1+cell": {
     "cellMetadata": {},
     "inputWidgets": {},
     "nuid": "c6f4bd5a-bbcf-4fb2-8181-0770bdf7f9bc",
     "showTitle": false,
     "tableResultSettingsMap": {},
     "title": ""
    }
   },
   "outputs": [],
   "source": [
    "from pyspark.sql.functions import col\n",
    "# create the table\n",
    "dlt.create_streaming_table(\n",
    "    name=\"demo.dbdemos_dlt_cdc.hospital_respiratory_data_scd\", comment=\"Slowly Changing Dimension Type 2 for hospital respiratory data\",\n",
    "    table_properties={\n",
    "        'delta.minReaderVersion': '2',\n",
    "        'delta.minWriterVersion': '5',\n",
    "        'delta.columnMapping.mode': 'name'\n",
    "    }\n",
    ")\n",
    "\n",
    "# store all changes as SCD2\n",
    "dlt.create_auto_cdc_flow(\n",
    "    target=\"demo.dbdemos_dlt_cdc.hospital_respiratory_data_scd\",\n",
    "    source=\"demo.dbdemos_dlt_cdc.weekly_hospital_respiratory_data_bronze\",\n",
    "    keys=[\"Week Ending Date\",\"Geographic aggregation\"],\n",
    "    sequence_by=col(\"Week Ending Date\"),\n",
    "    ignore_null_updates=False,\n",
    "    #apply_as_deletes=expr(\"operation = 'DELETE'\"),\n",
    "    except_column_list=[\"_rescued_data\"],\n",
    "    stored_as_scd_type=\"2\",\n",
    ")  # Enable SCD2 and store individual updates"
   ]
  }
 ],
 "metadata": {
  "application/vnd.databricks.v1+notebook": {
   "computePreferences": null,
   "dashboards": [],
   "environmentMetadata": {
    "base_environment": "",
    "environment_version": "2"
   },
   "inputWidgetPreferences": null,
   "language": "python",
   "notebookMetadata": {
    "pythonIndentUnit": 4
   },
   "notebookName": "autoCDC_SCD",
   "widgets": {}
  },
  "language_info": {
   "name": "python"
  }
 },
 "nbformat": 4,
 "nbformat_minor": 0
}
