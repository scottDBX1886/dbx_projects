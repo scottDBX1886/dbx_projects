{
 "cells": [
  {
   "cell_type": "code",
   "execution_count": 0,
   "metadata": {
    "application/vnd.databricks.v1+cell": {
     "cellMetadata": {
      "byteLimit": 2048000,
      "rowLimit": 10000
     },
     "inputWidgets": {},
     "nuid": "182f4c9d-81a8-46f7-9b6b-2ef8159f3b37",
     "showTitle": false,
     "tableResultSettingsMap": {},
     "title": ""
    }
   },
   "outputs": [],
   "source": [
    "# You can change the catalog, schema, dbName, and db. If you do so, you must also\n",
    "# change the names in the rest of the tutorial.\n",
    "catalog = \"demo\"\n",
    "schema = dbName = db = \"dbdemos_dlt_cdc\"\n",
    "volume_name = \"raw_data\"\n",
    "\n",
    "#/Volumes/demo/dbdemos_dlt_cdc/raw_data/customers/spark.sql(f'CREATE CATALOG IF NOT EXISTS `{catalog}`')\n",
    "spark.sql(f'USE CATALOG `{catalog}`')\n",
    "spark.sql(f'CREATE SCHEMA IF NOT EXISTS `{catalog}`.`{schema}`')\n",
    "spark.sql(f'USE SCHEMA `{schema}`')\n",
    "spark.sql(f'CREATE VOLUME IF NOT EXISTS `{catalog}`.`{schema}`.`{volume_name}`')\n",
    "volume_folder =  f\"/Volumes/{catalog}/{db}/{volume_name}\"\n",
    "\n",
    "try:\n",
    "  dbutils.fs.ls(volume_folder+\"/customers\")\n",
    "except:\n",
    "  print(f\"folder doesn't exists, generating the data under {volume_folder}...\")\n",
    "  from pyspark.sql import functions as F\n",
    "  from faker import Faker\n",
    "  from collections import OrderedDict\n",
    "  import uuid\n",
    "  fake = Faker()\n",
    "  import random\n",
    "\n",
    "  fake_firstname = F.udf(fake.first_name)\n",
    "  fake_lastname = F.udf(fake.last_name)\n",
    "  fake_email = F.udf(fake.ascii_company_email)\n",
    "  fake_date = F.udf(lambda:fake.date_time_this_month().strftime(\"%m-%d-%Y %H:%M:%S\"))\n",
    "  fake_address = F.udf(fake.address)\n",
    "  operations = OrderedDict([(\"APPEND\", 0.5),(\"DELETE\", 0.1),(\"UPDATE\", 0.3),(None, 0.01)])\n",
    "  fake_operation = F.udf(lambda:fake.random_elements(elements=operations, length=1)[0])\n",
    "  fake_id = F.udf(lambda: str(uuid.uuid4()) if random.uniform(0, 1) < 0.98 else None)\n",
    "\n",
    "  df = spark.range(0, 100000).repartition(100)\n",
    "  df = df.withColumn(\"id\", fake_id())\n",
    "  df = df.withColumn(\"firstname\", fake_firstname())\n",
    "  df = df.withColumn(\"lastname\", fake_lastname())\n",
    "  df = df.withColumn(\"email\", fake_email())\n",
    "  df = df.withColumn(\"address\", fake_address())\n",
    "  df = df.withColumn(\"operation\", fake_operation())\n",
    "  df_customers = df.withColumn(\"operation_date\", fake_date())\n",
    "  df_customers.repartition(100).write.format(\"json\").mode(\"overwrite\").save(volume_folder+\"/customers\")"
   ]
  }
 ],
 "metadata": {
  "application/vnd.databricks.v1+notebook": {
   "computePreferences": {
    "hardware": {
     "accelerator": null,
     "gpuPoolId": null,
     "memory": null
    }
   },
   "dashboards": [],
   "environmentMetadata": {
    "base_environment": "",
    "environment_version": "3"
   },
   "inputWidgetPreferences": null,
   "language": "python",
   "notebookMetadata": {
    "pythonIndentUnit": 4
   },
   "notebookName": "autoCDC_data_creation",
   "widgets": {}
  },
  "language_info": {
   "name": "python"
  }
 },
 "nbformat": 4,
 "nbformat_minor": 0
}
